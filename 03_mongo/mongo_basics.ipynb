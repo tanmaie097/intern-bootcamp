{
 "cells": [
  {
   "cell_type": "code",
   "execution_count": 1,
   "id": "b43da535",
   "metadata": {},
   "outputs": [],
   "source": [
    "from faker import Faker\n",
    "from pymongo import MongoClient"
   ]
  },
  {
   "cell_type": "code",
   "execution_count": 2,
   "id": "a410ee00",
   "metadata": {},
   "outputs": [],
   "source": [
    "db = MongoClient(\"mongodb://127.0.0.1:27017/?directConnection=true&serverSelectionTimeoutMS=2000&appName=mongosh+2.5.8\")\n",
    "fake = Faker()\n",
    "\n",
    "Database = db[\"tanmaie_test\"]\n",
    "collection = Database[\"students\"]"
   ]
  },
  {
   "cell_type": "code",
   "execution_count": 3,
   "id": "ee9deacd",
   "metadata": {},
   "outputs": [
    {
     "data": {
      "text/plain": [
       "InsertOneResult(ObjectId('68fa117ed3bd5dcfbb111ab1'), acknowledged=True)"
      ]
     },
     "execution_count": 3,
     "metadata": {},
     "output_type": "execute_result"
    }
   ],
   "source": [
    "collection.insert_one({'u_id':fake.random_int(1,30), 'name':fake.name(), 'address':fake.address()})\n"
   ]
  }
 ],
 "metadata": {
  "kernelspec": {
   "display_name": "venv",
   "language": "python",
   "name": "python3"
  },
  "language_info": {
   "codemirror_mode": {
    "name": "ipython",
    "version": 3
   },
   "file_extension": ".py",
   "mimetype": "text/x-python",
   "name": "python",
   "nbconvert_exporter": "python",
   "pygments_lexer": "ipython3",
   "version": "3.12.7"
  }
 },
 "nbformat": 4,
 "nbformat_minor": 5
}
