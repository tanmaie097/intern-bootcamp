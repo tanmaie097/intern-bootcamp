{
 "cells": [
  {
   "cell_type": "code",
   "execution_count": null,
   "id": "07a7199c",
   "metadata": {},
   "outputs": [],
   "source": [
    "import pandas as pd\n",
    "import seaborn as sns\n",
    "import matplotlib.pyplot as plt\n",
    "customers = pd.read_csv('/Users/tanmaie/Downloads/intern-bootcamp/data/raw/customers.csv')\n",
    "order_items = pd.read_csv('/Users/tanmaie/Downloads/intern-bootcamp/data/raw/order_items.csv')\n",
    "orders = pd.read_csv('/Users/tanmaie/Downloads/intern-bootcamp/data/raw/orders.csv')\n",
    "products = pd.read_csv('/Users/tanmaie/Downloads/intern-bootcamp/data/raw/products.csv')\n",
    "transactions = pd.read_csv('/Users/tanmaie/Downloads/intern-bootcamp/data/raw/transactions.csv')"
   ]
  },
  {
   "cell_type": "code",
   "execution_count": null,
   "id": "edb79909",
   "metadata": {},
   "outputs": [
    {
     "data": {
      "text/html": [
       "<div>\n",
       "<style scoped>\n",
       "    .dataframe tbody tr th:only-of-type {\n",
       "        vertical-align: middle;\n",
       "    }\n",
       "\n",
       "    .dataframe tbody tr th {\n",
       "        vertical-align: top;\n",
       "    }\n",
       "\n",
       "    .dataframe thead th {\n",
       "        text-align: right;\n",
       "    }\n",
       "</style>\n",
       "<table border=\"1\" class=\"dataframe\">\n",
       "  <thead>\n",
       "    <tr style=\"text-align: right;\">\n",
       "      <th></th>\n",
       "      <th>order_id</th>\n",
       "      <th>customer_id</th>\n",
       "      <th>order_date</th>\n",
       "      <th>status</th>\n",
       "    </tr>\n",
       "  </thead>\n",
       "  <tbody>\n",
       "    <tr>\n",
       "      <th>0</th>\n",
       "      <td>1</td>\n",
       "      <td>92</td>\n",
       "      <td>2024-12-12</td>\n",
       "      <td>Pending</td>\n",
       "    </tr>\n",
       "    <tr>\n",
       "      <th>1</th>\n",
       "      <td>2</td>\n",
       "      <td>46</td>\n",
       "      <td>2024-12-31</td>\n",
       "      <td>Shipped</td>\n",
       "    </tr>\n",
       "    <tr>\n",
       "      <th>2</th>\n",
       "      <td>3</td>\n",
       "      <td>30</td>\n",
       "      <td>2025-10-10</td>\n",
       "      <td>Delivered</td>\n",
       "    </tr>\n",
       "    <tr>\n",
       "      <th>3</th>\n",
       "      <td>4</td>\n",
       "      <td>52</td>\n",
       "      <td>2024-10-20</td>\n",
       "      <td>Pending</td>\n",
       "    </tr>\n",
       "    <tr>\n",
       "      <th>4</th>\n",
       "      <td>5</td>\n",
       "      <td>37</td>\n",
       "      <td>2025-06-15</td>\n",
       "      <td>Cancelled</td>\n",
       "    </tr>\n",
       "  </tbody>\n",
       "</table>\n",
       "</div>"
      ],
      "text/plain": [
       "   order_id  customer_id  order_date     status\n",
       "0         1           92  2024-12-12    Pending\n",
       "1         2           46  2024-12-31    Shipped\n",
       "2         3           30  2025-10-10  Delivered\n",
       "3         4           52  2024-10-20    Pending\n",
       "4         5           37  2025-06-15  Cancelled"
      ]
     },
     "execution_count": 78,
     "metadata": {},
     "output_type": "execute_result"
    }
   ],
   "source": [
    "orders.columns\n",
    "orders.head()"
   ]
  },
  {
   "cell_type": "code",
   "execution_count": null,
   "id": "8bb96674",
   "metadata": {},
   "outputs": [
    {
     "data": {
      "text/html": [
       "<div>\n",
       "<style scoped>\n",
       "    .dataframe tbody tr th:only-of-type {\n",
       "        vertical-align: middle;\n",
       "    }\n",
       "\n",
       "    .dataframe tbody tr th {\n",
       "        vertical-align: top;\n",
       "    }\n",
       "\n",
       "    .dataframe thead th {\n",
       "        text-align: right;\n",
       "    }\n",
       "</style>\n",
       "<table border=\"1\" class=\"dataframe\">\n",
       "  <thead>\n",
       "    <tr style=\"text-align: right;\">\n",
       "      <th></th>\n",
       "      <th>order_id</th>\n",
       "      <th>product_id</th>\n",
       "      <th>quantity</th>\n",
       "      <th>unit_price</th>\n",
       "      <th>total_price</th>\n",
       "    </tr>\n",
       "  </thead>\n",
       "  <tbody>\n",
       "    <tr>\n",
       "      <th>0</th>\n",
       "      <td>1</td>\n",
       "      <td>31</td>\n",
       "      <td>1</td>\n",
       "      <td>353.08</td>\n",
       "      <td>353.08</td>\n",
       "    </tr>\n",
       "    <tr>\n",
       "      <th>1</th>\n",
       "      <td>1</td>\n",
       "      <td>31</td>\n",
       "      <td>2</td>\n",
       "      <td>353.08</td>\n",
       "      <td>706.16</td>\n",
       "    </tr>\n",
       "    <tr>\n",
       "      <th>2</th>\n",
       "      <td>1</td>\n",
       "      <td>44</td>\n",
       "      <td>2</td>\n",
       "      <td>402.07</td>\n",
       "      <td>804.14</td>\n",
       "    </tr>\n",
       "    <tr>\n",
       "      <th>3</th>\n",
       "      <td>1</td>\n",
       "      <td>25</td>\n",
       "      <td>3</td>\n",
       "      <td>423.75</td>\n",
       "      <td>1271.25</td>\n",
       "    </tr>\n",
       "    <tr>\n",
       "      <th>4</th>\n",
       "      <td>2</td>\n",
       "      <td>48</td>\n",
       "      <td>1</td>\n",
       "      <td>188.68</td>\n",
       "      <td>188.68</td>\n",
       "    </tr>\n",
       "  </tbody>\n",
       "</table>\n",
       "</div>"
      ],
      "text/plain": [
       "   order_id  product_id  quantity  unit_price  total_price\n",
       "0         1          31         1      353.08       353.08\n",
       "1         1          31         2      353.08       706.16\n",
       "2         1          44         2      402.07       804.14\n",
       "3         1          25         3      423.75      1271.25\n",
       "4         2          48         1      188.68       188.68"
      ]
     },
     "execution_count": 77,
     "metadata": {},
     "output_type": "execute_result"
    }
   ],
   "source": [
    "order_items.columns\n",
    "order_items.head()"
   ]
  },
  {
   "cell_type": "code",
   "execution_count": 17,
   "id": "78c9cde4",
   "metadata": {},
   "outputs": [
    {
     "data": {
      "text/html": [
       "<div>\n",
       "<style scoped>\n",
       "    .dataframe tbody tr th:only-of-type {\n",
       "        vertical-align: middle;\n",
       "    }\n",
       "\n",
       "    .dataframe tbody tr th {\n",
       "        vertical-align: top;\n",
       "    }\n",
       "\n",
       "    .dataframe thead th {\n",
       "        text-align: right;\n",
       "    }\n",
       "</style>\n",
       "<table border=\"1\" class=\"dataframe\">\n",
       "  <thead>\n",
       "    <tr style=\"text-align: right;\">\n",
       "      <th></th>\n",
       "      <th>product_id</th>\n",
       "      <th>product_name</th>\n",
       "      <th>category</th>\n",
       "      <th>price</th>\n",
       "      <th>stock</th>\n",
       "    </tr>\n",
       "  </thead>\n",
       "  <tbody>\n",
       "    <tr>\n",
       "      <th>0</th>\n",
       "      <td>1</td>\n",
       "      <td>Today</td>\n",
       "      <td>Fashion</td>\n",
       "      <td>288.01</td>\n",
       "      <td>124</td>\n",
       "    </tr>\n",
       "    <tr>\n",
       "      <th>1</th>\n",
       "      <td>2</td>\n",
       "      <td>Worry</td>\n",
       "      <td>Electronics</td>\n",
       "      <td>201.22</td>\n",
       "      <td>46</td>\n",
       "    </tr>\n",
       "    <tr>\n",
       "      <th>2</th>\n",
       "      <td>3</td>\n",
       "      <td>Only</td>\n",
       "      <td>Books</td>\n",
       "      <td>351.00</td>\n",
       "      <td>25</td>\n",
       "    </tr>\n",
       "    <tr>\n",
       "      <th>3</th>\n",
       "      <td>4</td>\n",
       "      <td>Kid</td>\n",
       "      <td>Electronics</td>\n",
       "      <td>386.27</td>\n",
       "      <td>51</td>\n",
       "    </tr>\n",
       "    <tr>\n",
       "      <th>4</th>\n",
       "      <td>5</td>\n",
       "      <td>Article</td>\n",
       "      <td>Home</td>\n",
       "      <td>179.77</td>\n",
       "      <td>132</td>\n",
       "    </tr>\n",
       "  </tbody>\n",
       "</table>\n",
       "</div>"
      ],
      "text/plain": [
       "   product_id product_name     category   price  stock\n",
       "0           1        Today      Fashion  288.01    124\n",
       "1           2        Worry  Electronics  201.22     46\n",
       "2           3         Only        Books  351.00     25\n",
       "3           4          Kid  Electronics  386.27     51\n",
       "4           5      Article         Home  179.77    132"
      ]
     },
     "execution_count": 17,
     "metadata": {},
     "output_type": "execute_result"
    }
   ],
   "source": [
    "products.columns\n",
    "products.head()"
   ]
  },
  {
   "cell_type": "code",
   "execution_count": 71,
   "id": "89ad446e",
   "metadata": {},
   "outputs": [
    {
     "data": {
      "text/plain": [
       "<Axes: xlabel='stock', ylabel='price'>"
      ]
     },
     "execution_count": 71,
     "metadata": {},
     "output_type": "execute_result"
    },
    {
     "data": {
      "image/png": "[encoded data removed]",
      "text/plain": [
       "<Figure size 640x480 with 1 Axes>"
      ]
     },
     "metadata": {},
     "output_type": "display_data"
    }
   ],
   "source": [
    "sns.scatterplot(data=products, x='stock', y='price')"
   ]
  },
  {
   "cell_type": "code",
   "execution_count": 63,
   "id": "36960a42",
   "metadata": {},
   "outputs": [
    {
     "data": {
      "text/plain": [
       "<Axes: xlabel='stock', ylabel='Count'>"
      ]
     },
     "execution_count": 63,
     "metadata": {},
     "output_type": "execute_result"
    },
    {
     "data": {
      "image/png": "[encoded data removed]",
      "text/plain": [
       "<Figure size 640x480 with 1 Axes>"
      ]
     },
     "metadata": {},
     "output_type": "display_data"
    }
   ],
   "source": [
    "sns.histplot(data=products, x='stock')"
   ]
  },
  {
   "cell_type": "code",
   "execution_count": 51,
   "id": "cf22de6c",
   "metadata": {},
   "outputs": [
    {
     "data": {
      "text/plain": [
       "<Axes: xlabel='category', ylabel='price'>"
      ]
     },
     "execution_count": 51,
     "metadata": {},
     "output_type": "execute_result"
    },
    {
     "data": {
      "image/png": "[encoded data removed]",
      "text/plain": [
       "<Figure size 640x480 with 1 Axes>"
      ]
     },
     "metadata": {},
     "output_type": "display_data"
    }
   ],
   "source": [
    "sns.lineplot(data=products, x='category', y='price')"
   ]
  },
  {
   "cell_type": "code",
   "execution_count": 39,
   "id": "c0af0905",
   "metadata": {},
   "outputs": [
    {
     "data": {
      "text/html": [
       "<div>\n",
       "<style scoped>\n",
       "    .dataframe tbody tr th:only-of-type {\n",
       "        vertical-align: middle;\n",
       "    }\n",
       "\n",
       "    .dataframe tbody tr th {\n",
       "        vertical-align: top;\n",
       "    }\n",
       "\n",
       "    .dataframe thead th {\n",
       "        text-align: right;\n",
       "    }\n",
       "</style>\n",
       "<table border=\"1\" class=\"dataframe\">\n",
       "  <thead>\n",
       "    <tr style=\"text-align: right;\">\n",
       "      <th></th>\n",
       "      <th>transaction_id</th>\n",
       "      <th>order_id</th>\n",
       "      <th>payment_method</th>\n",
       "      <th>amount</th>\n",
       "      <th>transaction_date</th>\n",
       "    </tr>\n",
       "  </thead>\n",
       "  <tbody>\n",
       "    <tr>\n",
       "      <th>0</th>\n",
       "      <td>1</td>\n",
       "      <td>1</td>\n",
       "      <td>COD</td>\n",
       "      <td>3134.63</td>\n",
       "      <td>2024-12-12</td>\n",
       "    </tr>\n",
       "    <tr>\n",
       "      <th>1</th>\n",
       "      <td>2</td>\n",
       "      <td>2</td>\n",
       "      <td>Bank Transfer</td>\n",
       "      <td>983.00</td>\n",
       "      <td>2024-12-31</td>\n",
       "    </tr>\n",
       "    <tr>\n",
       "      <th>2</th>\n",
       "      <td>3</td>\n",
       "      <td>3</td>\n",
       "      <td>Bank Transfer</td>\n",
       "      <td>479.94</td>\n",
       "      <td>2025-10-10</td>\n",
       "    </tr>\n",
       "    <tr>\n",
       "      <th>3</th>\n",
       "      <td>4</td>\n",
       "      <td>4</td>\n",
       "      <td>Credit Card</td>\n",
       "      <td>318.78</td>\n",
       "      <td>2024-10-20</td>\n",
       "    </tr>\n",
       "    <tr>\n",
       "      <th>4</th>\n",
       "      <td>5</td>\n",
       "      <td>5</td>\n",
       "      <td>Credit Card</td>\n",
       "      <td>1363.80</td>\n",
       "      <td>2025-06-15</td>\n",
       "    </tr>\n",
       "  </tbody>\n",
       "</table>\n",
       "</div>"
      ],
      "text/plain": [
       "   transaction_id  order_id payment_method   amount transaction_date\n",
       "0               1         1            COD  3134.63       2024-12-12\n",
       "1               2         2  Bank Transfer   983.00       2024-12-31\n",
       "2               3         3  Bank Transfer   479.94       2025-10-10\n",
       "3               4         4    Credit Card   318.78       2024-10-20\n",
       "4               5         5    Credit Card  1363.80       2025-06-15"
      ]
     },
     "execution_count": 39,
     "metadata": {},
     "output_type": "execute_result"
    }
   ],
   "source": [
    "transactions.columns\n",
    "transactions.head()"
   ]
  },
  {
   "cell_type": "code",
   "execution_count": null,
   "id": "205c2406",
   "metadata": {},
   "outputs": [],
   "source": [
    "plt.scatter()"
   ]
  },
  {
   "cell_type": "code",
   "execution_count": 66,
   "id": "925ca1ca",
   "metadata": {},
   "outputs": [
    {
     "data": {
      "text/plain": [
       "<BarContainer object of 200 artists>"
      ]
     },
     "execution_count": 66,
     "metadata": {},
     "output_type": "execute_result"
    },
    {
     "data": {
      "image/png": "[encoded data removed]",
      "text/plain": [
       "<Figure size 640x480 with 1 Axes>"
      ]
     },
     "metadata": {},
     "output_type": "display_data"
    }
   ],
   "source": [
    "plt.bar(transactions['payment_method'], transactions['amount'], color='orange')"
   ]
  },
  {
   "cell_type": "code",
   "execution_count": 28,
   "id": "09d67134",
   "metadata": {},
   "outputs": [
    {
     "data": {
      "text/plain": [
       "Text(0.5, 1.0, 'Scatter Plot of category vs  price')"
      ]
     },
     "execution_count": 28,
     "metadata": {},
     "output_type": "execute_result"
    },
    {
     "data": {
      "image/png": "[encoded data removed]",
      "text/plain": [
       "<Figure size 640x480 with 1 Axes>"
      ]
     },
     "metadata": {},
     "output_type": "display_data"
    }
   ],
   "source": [
    "plt.scatter(products['category'], products['price'])\n",
    "plt.title('Scatter Plot of category vs  price')"
   ]
  },
  {
   "cell_type": "code",
   "execution_count": 91,
   "id": "bf57f183",
   "metadata": {},
   "outputs": [
    {
     "data": {
      "text/plain": [
       "<Axes: xlabel='category', ylabel='price'>"
      ]
     },
     "execution_count": 91,
     "metadata": {},
     "output_type": "execute_result"
    },
    {
     "data": {
      "image/png": "[encoded data removed]",
      "text/plain": [
       "<Figure size 640x480 with 1 Axes>"
      ]
     },
     "metadata": {},
     "output_type": "display_data"
    }
   ],
   "source": [
    "sns.boxplot(x='category', y='price', data=products)"
   ]
  },
  {
   "cell_type": "markdown",
   "id": "2c1e04ea",
   "metadata": {},
   "source": [
    "merging data "
   ]
  },
  {
   "cell_type": "code",
   "execution_count": 95,
   "id": "00b130a7",
   "metadata": {},
   "outputs": [
    {
     "data": {
      "text/html": [
       "<div>\n",
       "<style scoped>\n",
       "    .dataframe tbody tr th:only-of-type {\n",
       "        vertical-align: middle;\n",
       "    }\n",
       "\n",
       "    .dataframe tbody tr th {\n",
       "        vertical-align: top;\n",
       "    }\n",
       "\n",
       "    .dataframe thead th {\n",
       "        text-align: right;\n",
       "    }\n",
       "</style>\n",
       "<table border=\"1\" class=\"dataframe\">\n",
       "  <thead>\n",
       "    <tr style=\"text-align: right;\">\n",
       "      <th></th>\n",
       "      <th>order_id</th>\n",
       "      <th>customer_id</th>\n",
       "      <th>order_date</th>\n",
       "      <th>status</th>\n",
       "      <th>name</th>\n",
       "      <th>email</th>\n",
       "      <th>phone</th>\n",
       "      <th>city</th>\n",
       "      <th>country</th>\n",
       "      <th>created_at</th>\n",
       "    </tr>\n",
       "  </thead>\n",
       "  <tbody>\n",
       "    <tr>\n",
       "      <th>0</th>\n",
       "      <td>1</td>\n",
       "      <td>92</td>\n",
       "      <td>2024-12-12</td>\n",
       "      <td>Pending</td>\n",
       "      <td>Melissa Kim</td>\n",
       "      <td>victorsolis@example.org</td>\n",
       "      <td>001-511-767-7133</td>\n",
       "      <td>Emilytown</td>\n",
       "      <td>Switzerland</td>\n",
       "      <td>2024-05-13</td>\n",
       "    </tr>\n",
       "    <tr>\n",
       "      <th>1</th>\n",
       "      <td>2</td>\n",
       "      <td>46</td>\n",
       "      <td>2024-12-31</td>\n",
       "      <td>Shipped</td>\n",
       "      <td>Chelsea Smith</td>\n",
       "      <td>fglenn@example.com</td>\n",
       "      <td>949.600.6053x34155</td>\n",
       "      <td>Adamston</td>\n",
       "      <td>Colombia</td>\n",
       "      <td>2024-02-16</td>\n",
       "    </tr>\n",
       "    <tr>\n",
       "      <th>2</th>\n",
       "      <td>3</td>\n",
       "      <td>30</td>\n",
       "      <td>2025-10-10</td>\n",
       "      <td>Delivered</td>\n",
       "      <td>Brittany Sanford</td>\n",
       "      <td>daychristine@example.net</td>\n",
       "      <td>(608)204-9335x2936</td>\n",
       "      <td>East Brandy</td>\n",
       "      <td>Belize</td>\n",
       "      <td>2025-07-13</td>\n",
       "    </tr>\n",
       "    <tr>\n",
       "      <th>3</th>\n",
       "      <td>4</td>\n",
       "      <td>52</td>\n",
       "      <td>2024-10-20</td>\n",
       "      <td>Pending</td>\n",
       "      <td>Micheal Lee</td>\n",
       "      <td>yjennings@example.org</td>\n",
       "      <td>431-526-0680x059</td>\n",
       "      <td>New Kaylachester</td>\n",
       "      <td>Korea</td>\n",
       "      <td>2025-09-15</td>\n",
       "    </tr>\n",
       "    <tr>\n",
       "      <th>4</th>\n",
       "      <td>5</td>\n",
       "      <td>37</td>\n",
       "      <td>2025-06-15</td>\n",
       "      <td>Cancelled</td>\n",
       "      <td>Casey Anthony</td>\n",
       "      <td>rebecca95@example.com</td>\n",
       "      <td>001-962-507-1713x5629</td>\n",
       "      <td>Jasonstad</td>\n",
       "      <td>Saint Pierre and Miquelon</td>\n",
       "      <td>2024-12-07</td>\n",
       "    </tr>\n",
       "  </tbody>\n",
       "</table>\n",
       "</div>"
      ],
      "text/plain": [
       "   order_id  customer_id  order_date     status              name  \\\n",
       "0         1           92  2024-12-12    Pending       Melissa Kim   \n",
       "1         2           46  2024-12-31    Shipped     Chelsea Smith   \n",
       "2         3           30  2025-10-10  Delivered  Brittany Sanford   \n",
       "3         4           52  2024-10-20    Pending       Micheal Lee   \n",
       "4         5           37  2025-06-15  Cancelled     Casey Anthony   \n",
       "\n",
       "                      email                  phone              city  \\\n",
       "0   victorsolis@example.org       001-511-767-7133         Emilytown   \n",
       "1        fglenn@example.com     949.600.6053x34155          Adamston   \n",
       "2  daychristine@example.net     (608)204-9335x2936       East Brandy   \n",
       "3     yjennings@example.org       431-526-0680x059  New Kaylachester   \n",
       "4     rebecca95@example.com  001-962-507-1713x5629         Jasonstad   \n",
       "\n",
       "                     country  created_at  \n",
       "0                Switzerland  2024-05-13  \n",
       "1                   Colombia  2024-02-16  \n",
       "2                     Belize  2025-07-13  \n",
       "3                      Korea  2025-09-15  \n",
       "4  Saint Pierre and Miquelon  2024-12-07  "
      ]
     },
     "execution_count": 95,
     "metadata": {},
     "output_type": "execute_result"
    }
   ],
   "source": [
    "order_customers = pd.merge(orders, customers, on='customer_id', how='inner')\n",
    "orders_items = pd.merge(order_items, orders, on = 'order_id', how = 'inner')\n",
    "\n",
    "order_customers.head()"
   ]
  },
  {
   "cell_type": "code",
   "execution_count": 96,
   "id": "4e10445e",
   "metadata": {},
   "outputs": [
    {
     "data": {
      "text/html": [
       "<div>\n",
       "<style scoped>\n",
       "    .dataframe tbody tr th:only-of-type {\n",
       "        vertical-align: middle;\n",
       "    }\n",
       "\n",
       "    .dataframe tbody tr th {\n",
       "        vertical-align: top;\n",
       "    }\n",
       "\n",
       "    .dataframe thead th {\n",
       "        text-align: right;\n",
       "    }\n",
       "</style>\n",
       "<table border=\"1\" class=\"dataframe\">\n",
       "  <thead>\n",
       "    <tr style=\"text-align: right;\">\n",
       "      <th></th>\n",
       "      <th>order_id</th>\n",
       "      <th>product_id</th>\n",
       "      <th>quantity</th>\n",
       "      <th>unit_price</th>\n",
       "      <th>total_price</th>\n",
       "      <th>customer_id</th>\n",
       "      <th>order_date</th>\n",
       "      <th>status</th>\n",
       "    </tr>\n",
       "  </thead>\n",
       "  <tbody>\n",
       "    <tr>\n",
       "      <th>0</th>\n",
       "      <td>1</td>\n",
       "      <td>31</td>\n",
       "      <td>1</td>\n",
       "      <td>353.08</td>\n",
       "      <td>353.08</td>\n",
       "      <td>92</td>\n",
       "      <td>2024-12-12</td>\n",
       "      <td>Pending</td>\n",
       "    </tr>\n",
       "    <tr>\n",
       "      <th>1</th>\n",
       "      <td>1</td>\n",
       "      <td>31</td>\n",
       "      <td>2</td>\n",
       "      <td>353.08</td>\n",
       "      <td>706.16</td>\n",
       "      <td>92</td>\n",
       "      <td>2024-12-12</td>\n",
       "      <td>Pending</td>\n",
       "    </tr>\n",
       "    <tr>\n",
       "      <th>2</th>\n",
       "      <td>1</td>\n",
       "      <td>44</td>\n",
       "      <td>2</td>\n",
       "      <td>402.07</td>\n",
       "      <td>804.14</td>\n",
       "      <td>92</td>\n",
       "      <td>2024-12-12</td>\n",
       "      <td>Pending</td>\n",
       "    </tr>\n",
       "    <tr>\n",
       "      <th>3</th>\n",
       "      <td>1</td>\n",
       "      <td>25</td>\n",
       "      <td>3</td>\n",
       "      <td>423.75</td>\n",
       "      <td>1271.25</td>\n",
       "      <td>92</td>\n",
       "      <td>2024-12-12</td>\n",
       "      <td>Pending</td>\n",
       "    </tr>\n",
       "    <tr>\n",
       "      <th>4</th>\n",
       "      <td>2</td>\n",
       "      <td>48</td>\n",
       "      <td>1</td>\n",
       "      <td>188.68</td>\n",
       "      <td>188.68</td>\n",
       "      <td>46</td>\n",
       "      <td>2024-12-31</td>\n",
       "      <td>Shipped</td>\n",
       "    </tr>\n",
       "  </tbody>\n",
       "</table>\n",
       "</div>"
      ],
      "text/plain": [
       "   order_id  product_id  quantity  unit_price  total_price  customer_id  \\\n",
       "0         1          31         1      353.08       353.08           92   \n",
       "1         1          31         2      353.08       706.16           92   \n",
       "2         1          44         2      402.07       804.14           92   \n",
       "3         1          25         3      423.75      1271.25           92   \n",
       "4         2          48         1      188.68       188.68           46   \n",
       "\n",
       "   order_date   status  \n",
       "0  2024-12-12  Pending  \n",
       "1  2024-12-12  Pending  \n",
       "2  2024-12-12  Pending  \n",
       "3  2024-12-12  Pending  \n",
       "4  2024-12-31  Shipped  "
      ]
     },
     "execution_count": 96,
     "metadata": {},
     "output_type": "execute_result"
    }
   ],
   "source": [
    "orders_items.head()"
   ]
  },
  {
   "cell_type": "code",
   "execution_count": 102,
   "id": "f0adf8f9",
   "metadata": {},
   "outputs": [
    {
     "data": {
      "text/html": [
       "<div>\n",
       "<style scoped>\n",
       "    .dataframe tbody tr th:only-of-type {\n",
       "        vertical-align: middle;\n",
       "    }\n",
       "\n",
       "    .dataframe tbody tr th {\n",
       "        vertical-align: top;\n",
       "    }\n",
       "\n",
       "    .dataframe thead th {\n",
       "        text-align: right;\n",
       "    }\n",
       "</style>\n",
       "<table border=\"1\" class=\"dataframe\">\n",
       "  <thead>\n",
       "    <tr style=\"text-align: right;\">\n",
       "      <th></th>\n",
       "      <th>order_id</th>\n",
       "      <th>product_id</th>\n",
       "      <th>quantity</th>\n",
       "      <th>unit_price</th>\n",
       "      <th>total_price</th>\n",
       "      <th>customer_id</th>\n",
       "      <th>order_date</th>\n",
       "      <th>status</th>\n",
       "      <th>product_name</th>\n",
       "      <th>category</th>\n",
       "      <th>price</th>\n",
       "      <th>stock</th>\n",
       "    </tr>\n",
       "  </thead>\n",
       "  <tbody>\n",
       "    <tr>\n",
       "      <th>0</th>\n",
       "      <td>1</td>\n",
       "      <td>31</td>\n",
       "      <td>1</td>\n",
       "      <td>353.08</td>\n",
       "      <td>353.08</td>\n",
       "      <td>92</td>\n",
       "      <td>2024-12-12</td>\n",
       "      <td>Pending</td>\n",
       "      <td>Popular</td>\n",
       "      <td>Home</td>\n",
       "      <td>353.08</td>\n",
       "      <td>23</td>\n",
       "    </tr>\n",
       "    <tr>\n",
       "      <th>1</th>\n",
       "      <td>1</td>\n",
       "      <td>31</td>\n",
       "      <td>2</td>\n",
       "      <td>353.08</td>\n",
       "      <td>706.16</td>\n",
       "      <td>92</td>\n",
       "      <td>2024-12-12</td>\n",
       "      <td>Pending</td>\n",
       "      <td>Popular</td>\n",
       "      <td>Home</td>\n",
       "      <td>353.08</td>\n",
       "      <td>23</td>\n",
       "    </tr>\n",
       "    <tr>\n",
       "      <th>2</th>\n",
       "      <td>1</td>\n",
       "      <td>44</td>\n",
       "      <td>2</td>\n",
       "      <td>402.07</td>\n",
       "      <td>804.14</td>\n",
       "      <td>92</td>\n",
       "      <td>2024-12-12</td>\n",
       "      <td>Pending</td>\n",
       "      <td>Make</td>\n",
       "      <td>Fashion</td>\n",
       "      <td>402.07</td>\n",
       "      <td>85</td>\n",
       "    </tr>\n",
       "    <tr>\n",
       "      <th>3</th>\n",
       "      <td>1</td>\n",
       "      <td>25</td>\n",
       "      <td>3</td>\n",
       "      <td>423.75</td>\n",
       "      <td>1271.25</td>\n",
       "      <td>92</td>\n",
       "      <td>2024-12-12</td>\n",
       "      <td>Pending</td>\n",
       "      <td>Real</td>\n",
       "      <td>Fashion</td>\n",
       "      <td>423.75</td>\n",
       "      <td>75</td>\n",
       "    </tr>\n",
       "    <tr>\n",
       "      <th>4</th>\n",
       "      <td>2</td>\n",
       "      <td>48</td>\n",
       "      <td>1</td>\n",
       "      <td>188.68</td>\n",
       "      <td>188.68</td>\n",
       "      <td>46</td>\n",
       "      <td>2024-12-31</td>\n",
       "      <td>Shipped</td>\n",
       "      <td>Development</td>\n",
       "      <td>Sports</td>\n",
       "      <td>188.68</td>\n",
       "      <td>118</td>\n",
       "    </tr>\n",
       "  </tbody>\n",
       "</table>\n",
       "</div>"
      ],
      "text/plain": [
       "   order_id  product_id  quantity  unit_price  total_price  customer_id  \\\n",
       "0         1          31         1      353.08       353.08           92   \n",
       "1         1          31         2      353.08       706.16           92   \n",
       "2         1          44         2      402.07       804.14           92   \n",
       "3         1          25         3      423.75      1271.25           92   \n",
       "4         2          48         1      188.68       188.68           46   \n",
       "\n",
       "   order_date   status product_name category   price  stock  \n",
       "0  2024-12-12  Pending      Popular     Home  353.08     23  \n",
       "1  2024-12-12  Pending      Popular     Home  353.08     23  \n",
       "2  2024-12-12  Pending         Make  Fashion  402.07     85  \n",
       "3  2024-12-12  Pending         Real  Fashion  423.75     75  \n",
       "4  2024-12-31  Shipped  Development   Sports  188.68    118  "
      ]
     },
     "execution_count": 102,
     "metadata": {},
     "output_type": "execute_result"
    }
   ],
   "source": [
    "sales_data = pd.merge(orders_items, products, on='product_id', how='inner')\n",
    "sales_data.head()"
   ]
  },
  {
   "cell_type": "code",
   "execution_count": null,
   "id": "09782e07",
   "metadata": {},
   "outputs": [
    {
     "data": {
      "text/html": [
       "<div>\n",
       "<style scoped>\n",
       "    .dataframe tbody tr th:only-of-type {\n",
       "        vertical-align: middle;\n",
       "    }\n",
       "\n",
       "    .dataframe tbody tr th {\n",
       "        vertical-align: top;\n",
       "    }\n",
       "\n",
       "    .dataframe thead th {\n",
       "        text-align: right;\n",
       "    }\n",
       "</style>\n",
       "<table border=\"1\" class=\"dataframe\">\n",
       "  <thead>\n",
       "    <tr style=\"text-align: right;\">\n",
       "      <th></th>\n",
       "      <th>order_id</th>\n",
       "      <th>product_id</th>\n",
       "      <th>quantity</th>\n",
       "      <th>unit_price</th>\n",
       "      <th>total_price</th>\n",
       "      <th>customer_id</th>\n",
       "      <th>order_date</th>\n",
       "      <th>status</th>\n",
       "      <th>product_name</th>\n",
       "      <th>category</th>\n",
       "      <th>price</th>\n",
       "      <th>stock</th>\n",
       "      <th>date</th>\n",
       "      <th>total_revenue</th>\n",
       "    </tr>\n",
       "  </thead>\n",
       "  <tbody>\n",
       "    <tr>\n",
       "      <th>0</th>\n",
       "      <td>1</td>\n",
       "      <td>31</td>\n",
       "      <td>1</td>\n",
       "      <td>353.08</td>\n",
       "      <td>353.08</td>\n",
       "      <td>92</td>\n",
       "      <td>2024-12-12</td>\n",
       "      <td>Pending</td>\n",
       "      <td>Popular</td>\n",
       "      <td>Home</td>\n",
       "      <td>353.08</td>\n",
       "      <td>23</td>\n",
       "      <td>2024-12-12</td>\n",
       "      <td>353.08</td>\n",
       "    </tr>\n",
       "    <tr>\n",
       "      <th>1</th>\n",
       "      <td>1</td>\n",
       "      <td>31</td>\n",
       "      <td>2</td>\n",
       "      <td>353.08</td>\n",
       "      <td>706.16</td>\n",
       "      <td>92</td>\n",
       "      <td>2024-12-12</td>\n",
       "      <td>Pending</td>\n",
       "      <td>Popular</td>\n",
       "      <td>Home</td>\n",
       "      <td>353.08</td>\n",
       "      <td>23</td>\n",
       "      <td>2024-12-12</td>\n",
       "      <td>706.16</td>\n",
       "    </tr>\n",
       "    <tr>\n",
       "      <th>2</th>\n",
       "      <td>1</td>\n",
       "      <td>44</td>\n",
       "      <td>2</td>\n",
       "      <td>402.07</td>\n",
       "      <td>804.14</td>\n",
       "      <td>92</td>\n",
       "      <td>2024-12-12</td>\n",
       "      <td>Pending</td>\n",
       "      <td>Make</td>\n",
       "      <td>Fashion</td>\n",
       "      <td>402.07</td>\n",
       "      <td>85</td>\n",
       "      <td>2024-12-12</td>\n",
       "      <td>804.14</td>\n",
       "    </tr>\n",
       "    <tr>\n",
       "      <th>3</th>\n",
       "      <td>1</td>\n",
       "      <td>25</td>\n",
       "      <td>3</td>\n",
       "      <td>423.75</td>\n",
       "      <td>1271.25</td>\n",
       "      <td>92</td>\n",
       "      <td>2024-12-12</td>\n",
       "      <td>Pending</td>\n",
       "      <td>Real</td>\n",
       "      <td>Fashion</td>\n",
       "      <td>423.75</td>\n",
       "      <td>75</td>\n",
       "      <td>2024-12-12</td>\n",
       "      <td>1271.25</td>\n",
       "    </tr>\n",
       "    <tr>\n",
       "      <th>4</th>\n",
       "      <td>2</td>\n",
       "      <td>48</td>\n",
       "      <td>1</td>\n",
       "      <td>188.68</td>\n",
       "      <td>188.68</td>\n",
       "      <td>46</td>\n",
       "      <td>2024-12-31</td>\n",
       "      <td>Shipped</td>\n",
       "      <td>Development</td>\n",
       "      <td>Sports</td>\n",
       "      <td>188.68</td>\n",
       "      <td>118</td>\n",
       "      <td>2024-12-31</td>\n",
       "      <td>188.68</td>\n",
       "    </tr>\n",
       "  </tbody>\n",
       "</table>\n",
       "</div>"
      ],
      "text/plain": [
       "   order_id  product_id  quantity  unit_price  total_price  customer_id  \\\n",
       "0         1          31         1      353.08       353.08           92   \n",
       "1         1          31         2      353.08       706.16           92   \n",
       "2         1          44         2      402.07       804.14           92   \n",
       "3         1          25         3      423.75      1271.25           92   \n",
       "4         2          48         1      188.68       188.68           46   \n",
       "\n",
       "   order_date   status product_name category   price  stock       date  \\\n",
       "0  2024-12-12  Pending      Popular     Home  353.08     23 2024-12-12   \n",
       "1  2024-12-12  Pending      Popular     Home  353.08     23 2024-12-12   \n",
       "2  2024-12-12  Pending         Make  Fashion  402.07     85 2024-12-12   \n",
       "3  2024-12-12  Pending         Real  Fashion  423.75     75 2024-12-12   \n",
       "4  2024-12-31  Shipped  Development   Sports  188.68    118 2024-12-31   \n",
       "\n",
       "   total_revenue  \n",
       "0         353.08  \n",
       "1         706.16  \n",
       "2         804.14  \n",
       "3        1271.25  \n",
       "4         188.68  "
      ]
     },
     "execution_count": 120,
     "metadata": {},
     "output_type": "execute_result"
    }
   ],
   "source": [
    "total_revenue = sales_data['quantity']*sales_data['price']\n",
    "sales_data['total_revenue'] = total_revenue\n",
    "sales_data.head()\n"
   ]
  },
  {
   "cell_type": "code",
   "execution_count": 132,
   "id": "5bb351ef",
   "metadata": {},
   "outputs": [
    {
     "data": {
      "text/html": [
       "<div>\n",
       "<style scoped>\n",
       "    .dataframe tbody tr th:only-of-type {\n",
       "        vertical-align: middle;\n",
       "    }\n",
       "\n",
       "    .dataframe tbody tr th {\n",
       "        vertical-align: top;\n",
       "    }\n",
       "\n",
       "    .dataframe thead th {\n",
       "        text-align: right;\n",
       "    }\n",
       "</style>\n",
       "<table border=\"1\" class=\"dataframe\">\n",
       "  <thead>\n",
       "    <tr style=\"text-align: right;\">\n",
       "      <th></th>\n",
       "      <th>order_id</th>\n",
       "      <th>product_id</th>\n",
       "      <th>quantity</th>\n",
       "      <th>unit_price</th>\n",
       "      <th>total_price</th>\n",
       "      <th>customer_id</th>\n",
       "      <th>order_date</th>\n",
       "      <th>status</th>\n",
       "      <th>product_name</th>\n",
       "      <th>category</th>\n",
       "      <th>price</th>\n",
       "      <th>stock</th>\n",
       "      <th>date</th>\n",
       "    </tr>\n",
       "  </thead>\n",
       "  <tbody>\n",
       "    <tr>\n",
       "      <th>0</th>\n",
       "      <td>1</td>\n",
       "      <td>31</td>\n",
       "      <td>1</td>\n",
       "      <td>353.08</td>\n",
       "      <td>353.08</td>\n",
       "      <td>92</td>\n",
       "      <td>2024-12-12</td>\n",
       "      <td>Pending</td>\n",
       "      <td>Popular</td>\n",
       "      <td>Home</td>\n",
       "      <td>353.08</td>\n",
       "      <td>23</td>\n",
       "      <td>2024-12-12</td>\n",
       "    </tr>\n",
       "    <tr>\n",
       "      <th>1</th>\n",
       "      <td>1</td>\n",
       "      <td>31</td>\n",
       "      <td>2</td>\n",
       "      <td>353.08</td>\n",
       "      <td>706.16</td>\n",
       "      <td>92</td>\n",
       "      <td>2024-12-12</td>\n",
       "      <td>Pending</td>\n",
       "      <td>Popular</td>\n",
       "      <td>Home</td>\n",
       "      <td>353.08</td>\n",
       "      <td>23</td>\n",
       "      <td>2024-12-12</td>\n",
       "    </tr>\n",
       "    <tr>\n",
       "      <th>2</th>\n",
       "      <td>1</td>\n",
       "      <td>44</td>\n",
       "      <td>2</td>\n",
       "      <td>402.07</td>\n",
       "      <td>804.14</td>\n",
       "      <td>92</td>\n",
       "      <td>2024-12-12</td>\n",
       "      <td>Pending</td>\n",
       "      <td>Make</td>\n",
       "      <td>Fashion</td>\n",
       "      <td>402.07</td>\n",
       "      <td>85</td>\n",
       "      <td>2024-12-12</td>\n",
       "    </tr>\n",
       "    <tr>\n",
       "      <th>3</th>\n",
       "      <td>1</td>\n",
       "      <td>25</td>\n",
       "      <td>3</td>\n",
       "      <td>423.75</td>\n",
       "      <td>1271.25</td>\n",
       "      <td>92</td>\n",
       "      <td>2024-12-12</td>\n",
       "      <td>Pending</td>\n",
       "      <td>Real</td>\n",
       "      <td>Fashion</td>\n",
       "      <td>423.75</td>\n",
       "      <td>75</td>\n",
       "      <td>2024-12-12</td>\n",
       "    </tr>\n",
       "    <tr>\n",
       "      <th>4</th>\n",
       "      <td>2</td>\n",
       "      <td>48</td>\n",
       "      <td>1</td>\n",
       "      <td>188.68</td>\n",
       "      <td>188.68</td>\n",
       "      <td>46</td>\n",
       "      <td>2024-12-31</td>\n",
       "      <td>Shipped</td>\n",
       "      <td>Development</td>\n",
       "      <td>Sports</td>\n",
       "      <td>188.68</td>\n",
       "      <td>118</td>\n",
       "      <td>2024-12-31</td>\n",
       "    </tr>\n",
       "  </tbody>\n",
       "</table>\n",
       "</div>"
      ],
      "text/plain": [
       "   order_id  product_id  quantity  unit_price  total_price  customer_id  \\\n",
       "0         1          31         1      353.08       353.08           92   \n",
       "1         1          31         2      353.08       706.16           92   \n",
       "2         1          44         2      402.07       804.14           92   \n",
       "3         1          25         3      423.75      1271.25           92   \n",
       "4         2          48         1      188.68       188.68           46   \n",
       "\n",
       "   order_date   status product_name category   price  stock       date  \n",
       "0  2024-12-12  Pending      Popular     Home  353.08     23 2024-12-12  \n",
       "1  2024-12-12  Pending      Popular     Home  353.08     23 2024-12-12  \n",
       "2  2024-12-12  Pending         Make  Fashion  402.07     85 2024-12-12  \n",
       "3  2024-12-12  Pending         Real  Fashion  423.75     75 2024-12-12  \n",
       "4  2024-12-31  Shipped  Development   Sports  188.68    118 2024-12-31  "
      ]
     },
     "execution_count": 132,
     "metadata": {},
     "output_type": "execute_result"
    }
   ],
   "source": [
    "sales_data.head()"
   ]
  },
  {
   "cell_type": "code",
   "execution_count": null,
   "id": "b34a2f85",
   "metadata": {},
   "outputs": [],
   "source": []
  },
  {
   "cell_type": "code",
   "execution_count": 109,
   "id": "32a86e3e",
   "metadata": {},
   "outputs": [
    {
     "data": {
      "image/png": "[encoded data removed]",
      "text/plain": [
       "<Figure size 640x480 with 1 Axes>"
      ]
     },
     "metadata": {},
     "output_type": "display_data"
    }
   ],
   "source": [
    "top_10 = sales_data.groupby('product_name')['quantity'].sum().nlargest(10)\n",
    "sns.barplot(y = top_10.values, x = top_10.index, color='pink', width = 0.4)\n",
    "plt.show()"
   ]
  },
  {
   "cell_type": "code",
   "execution_count": 112,
   "id": "0f15639b",
   "metadata": {},
   "outputs": [
    {
     "data": {
      "text/html": [
       "<div>\n",
       "<style scoped>\n",
       "    .dataframe tbody tr th:only-of-type {\n",
       "        vertical-align: middle;\n",
       "    }\n",
       "\n",
       "    .dataframe tbody tr th {\n",
       "        vertical-align: top;\n",
       "    }\n",
       "\n",
       "    .dataframe thead th {\n",
       "        text-align: right;\n",
       "    }\n",
       "</style>\n",
       "<table border=\"1\" class=\"dataframe\">\n",
       "  <thead>\n",
       "    <tr style=\"text-align: right;\">\n",
       "      <th></th>\n",
       "      <th>order_id</th>\n",
       "      <th>product_id</th>\n",
       "      <th>quantity</th>\n",
       "      <th>unit_price</th>\n",
       "      <th>total_price</th>\n",
       "      <th>customer_id</th>\n",
       "      <th>order_date</th>\n",
       "      <th>status</th>\n",
       "      <th>product_name</th>\n",
       "      <th>category</th>\n",
       "      <th>price</th>\n",
       "      <th>stock</th>\n",
       "      <th>date</th>\n",
       "    </tr>\n",
       "  </thead>\n",
       "  <tbody>\n",
       "    <tr>\n",
       "      <th>0</th>\n",
       "      <td>1</td>\n",
       "      <td>31</td>\n",
       "      <td>1</td>\n",
       "      <td>353.08</td>\n",
       "      <td>353.08</td>\n",
       "      <td>92</td>\n",
       "      <td>2024-12-12</td>\n",
       "      <td>Pending</td>\n",
       "      <td>Popular</td>\n",
       "      <td>Home</td>\n",
       "      <td>353.08</td>\n",
       "      <td>23</td>\n",
       "      <td>2024-12-12</td>\n",
       "    </tr>\n",
       "    <tr>\n",
       "      <th>1</th>\n",
       "      <td>1</td>\n",
       "      <td>31</td>\n",
       "      <td>2</td>\n",
       "      <td>353.08</td>\n",
       "      <td>706.16</td>\n",
       "      <td>92</td>\n",
       "      <td>2024-12-12</td>\n",
       "      <td>Pending</td>\n",
       "      <td>Popular</td>\n",
       "      <td>Home</td>\n",
       "      <td>353.08</td>\n",
       "      <td>23</td>\n",
       "      <td>2024-12-12</td>\n",
       "    </tr>\n",
       "    <tr>\n",
       "      <th>2</th>\n",
       "      <td>1</td>\n",
       "      <td>44</td>\n",
       "      <td>2</td>\n",
       "      <td>402.07</td>\n",
       "      <td>804.14</td>\n",
       "      <td>92</td>\n",
       "      <td>2024-12-12</td>\n",
       "      <td>Pending</td>\n",
       "      <td>Make</td>\n",
       "      <td>Fashion</td>\n",
       "      <td>402.07</td>\n",
       "      <td>85</td>\n",
       "      <td>2024-12-12</td>\n",
       "    </tr>\n",
       "    <tr>\n",
       "      <th>3</th>\n",
       "      <td>1</td>\n",
       "      <td>25</td>\n",
       "      <td>3</td>\n",
       "      <td>423.75</td>\n",
       "      <td>1271.25</td>\n",
       "      <td>92</td>\n",
       "      <td>2024-12-12</td>\n",
       "      <td>Pending</td>\n",
       "      <td>Real</td>\n",
       "      <td>Fashion</td>\n",
       "      <td>423.75</td>\n",
       "      <td>75</td>\n",
       "      <td>2024-12-12</td>\n",
       "    </tr>\n",
       "    <tr>\n",
       "      <th>4</th>\n",
       "      <td>2</td>\n",
       "      <td>48</td>\n",
       "      <td>1</td>\n",
       "      <td>188.68</td>\n",
       "      <td>188.68</td>\n",
       "      <td>46</td>\n",
       "      <td>2024-12-31</td>\n",
       "      <td>Shipped</td>\n",
       "      <td>Development</td>\n",
       "      <td>Sports</td>\n",
       "      <td>188.68</td>\n",
       "      <td>118</td>\n",
       "      <td>2024-12-31</td>\n",
       "    </tr>\n",
       "  </tbody>\n",
       "</table>\n",
       "</div>"
      ],
      "text/plain": [
       "   order_id  product_id  quantity  unit_price  total_price  customer_id  \\\n",
       "0         1          31         1      353.08       353.08           92   \n",
       "1         1          31         2      353.08       706.16           92   \n",
       "2         1          44         2      402.07       804.14           92   \n",
       "3         1          25         3      423.75      1271.25           92   \n",
       "4         2          48         1      188.68       188.68           46   \n",
       "\n",
       "   order_date   status product_name category   price  stock       date  \n",
       "0  2024-12-12  Pending      Popular     Home  353.08     23 2024-12-12  \n",
       "1  2024-12-12  Pending      Popular     Home  353.08     23 2024-12-12  \n",
       "2  2024-12-12  Pending         Make  Fashion  402.07     85 2024-12-12  \n",
       "3  2024-12-12  Pending         Real  Fashion  423.75     75 2024-12-12  \n",
       "4  2024-12-31  Shipped  Development   Sports  188.68    118 2024-12-31  "
      ]
     },
     "execution_count": 112,
     "metadata": {},
     "output_type": "execute_result"
    }
   ],
   "source": [
    "sales_data['date'] = pd.to_datetime(sales_data['order_date'])\n",
    "sales_data.head()"
   ]
  },
  {
   "cell_type": "code",
   "execution_count": 118,
   "id": "17413112",
   "metadata": {},
   "outputs": [
    {
     "data": {
      "text/plain": [
       "<Axes: xlabel='date'>"
      ]
     },
     "execution_count": 118,
     "metadata": {},
     "output_type": "execute_result"
    },
    {
     "data": {
      "image/png": "[encoded data removed]",
      "text/plain": [
       "<Figure size 640x480 with 1 Axes>"
      ]
     },
     "metadata": {},
     "output_type": "display_data"
    }
   ],
   "source": [
    "orders_per_month = sales_data.groupby(sales_data['date'].dt.to_period('M'))['order_id'].nunique()\n",
    "orders_per_month.plot(kind='line', marker='o', color='green')"
   ]
  },
  {
   "cell_type": "code",
   "execution_count": 135,
   "id": "e351a5c2",
   "metadata": {},
   "outputs": [
    {
     "data": {
      "text/html": [
       "<div>\n",
       "<style scoped>\n",
       "    .dataframe tbody tr th:only-of-type {\n",
       "        vertical-align: middle;\n",
       "    }\n",
       "\n",
       "    .dataframe tbody tr th {\n",
       "        vertical-align: top;\n",
       "    }\n",
       "\n",
       "    .dataframe thead th {\n",
       "        text-align: right;\n",
       "    }\n",
       "</style>\n",
       "<table border=\"1\" class=\"dataframe\">\n",
       "  <thead>\n",
       "    <tr style=\"text-align: right;\">\n",
       "      <th></th>\n",
       "      <th>order_id</th>\n",
       "      <th>product_id</th>\n",
       "      <th>quantity</th>\n",
       "      <th>unit_price</th>\n",
       "      <th>total_price</th>\n",
       "      <th>customer_id</th>\n",
       "      <th>order_date</th>\n",
       "      <th>status</th>\n",
       "      <th>product_name</th>\n",
       "      <th>category</th>\n",
       "      <th>price</th>\n",
       "      <th>stock</th>\n",
       "      <th>date</th>\n",
       "      <th>name</th>\n",
       "      <th>email</th>\n",
       "      <th>phone</th>\n",
       "      <th>city</th>\n",
       "      <th>country</th>\n",
       "      <th>created_at</th>\n",
       "    </tr>\n",
       "  </thead>\n",
       "  <tbody>\n",
       "    <tr>\n",
       "      <th>0</th>\n",
       "      <td>1</td>\n",
       "      <td>31</td>\n",
       "      <td>1</td>\n",
       "      <td>353.08</td>\n",
       "      <td>353.08</td>\n",
       "      <td>92</td>\n",
       "      <td>2024-12-12</td>\n",
       "      <td>Pending</td>\n",
       "      <td>Popular</td>\n",
       "      <td>Home</td>\n",
       "      <td>353.08</td>\n",
       "      <td>23</td>\n",
       "      <td>2024-12-12</td>\n",
       "      <td>Melissa Kim</td>\n",
       "      <td>victorsolis@example.org</td>\n",
       "      <td>001-511-767-7133</td>\n",
       "      <td>Emilytown</td>\n",
       "      <td>Switzerland</td>\n",
       "      <td>2024-05-13</td>\n",
       "    </tr>\n",
       "    <tr>\n",
       "      <th>1</th>\n",
       "      <td>1</td>\n",
       "      <td>31</td>\n",
       "      <td>2</td>\n",
       "      <td>353.08</td>\n",
       "      <td>706.16</td>\n",
       "      <td>92</td>\n",
       "      <td>2024-12-12</td>\n",
       "      <td>Pending</td>\n",
       "      <td>Popular</td>\n",
       "      <td>Home</td>\n",
       "      <td>353.08</td>\n",
       "      <td>23</td>\n",
       "      <td>2024-12-12</td>\n",
       "      <td>Melissa Kim</td>\n",
       "      <td>victorsolis@example.org</td>\n",
       "      <td>001-511-767-7133</td>\n",
       "      <td>Emilytown</td>\n",
       "      <td>Switzerland</td>\n",
       "      <td>2024-05-13</td>\n",
       "    </tr>\n",
       "    <tr>\n",
       "      <th>2</th>\n",
       "      <td>1</td>\n",
       "      <td>44</td>\n",
       "      <td>2</td>\n",
       "      <td>402.07</td>\n",
       "      <td>804.14</td>\n",
       "      <td>92</td>\n",
       "      <td>2024-12-12</td>\n",
       "      <td>Pending</td>\n",
       "      <td>Make</td>\n",
       "      <td>Fashion</td>\n",
       "      <td>402.07</td>\n",
       "      <td>85</td>\n",
       "      <td>2024-12-12</td>\n",
       "      <td>Melissa Kim</td>\n",
       "      <td>victorsolis@example.org</td>\n",
       "      <td>001-511-767-7133</td>\n",
       "      <td>Emilytown</td>\n",
       "      <td>Switzerland</td>\n",
       "      <td>2024-05-13</td>\n",
       "    </tr>\n",
       "    <tr>\n",
       "      <th>3</th>\n",
       "      <td>1</td>\n",
       "      <td>25</td>\n",
       "      <td>3</td>\n",
       "      <td>423.75</td>\n",
       "      <td>1271.25</td>\n",
       "      <td>92</td>\n",
       "      <td>2024-12-12</td>\n",
       "      <td>Pending</td>\n",
       "      <td>Real</td>\n",
       "      <td>Fashion</td>\n",
       "      <td>423.75</td>\n",
       "      <td>75</td>\n",
       "      <td>2024-12-12</td>\n",
       "      <td>Melissa Kim</td>\n",
       "      <td>victorsolis@example.org</td>\n",
       "      <td>001-511-767-7133</td>\n",
       "      <td>Emilytown</td>\n",
       "      <td>Switzerland</td>\n",
       "      <td>2024-05-13</td>\n",
       "    </tr>\n",
       "    <tr>\n",
       "      <th>4</th>\n",
       "      <td>2</td>\n",
       "      <td>48</td>\n",
       "      <td>1</td>\n",
       "      <td>188.68</td>\n",
       "      <td>188.68</td>\n",
       "      <td>46</td>\n",
       "      <td>2024-12-31</td>\n",
       "      <td>Shipped</td>\n",
       "      <td>Development</td>\n",
       "      <td>Sports</td>\n",
       "      <td>188.68</td>\n",
       "      <td>118</td>\n",
       "      <td>2024-12-31</td>\n",
       "      <td>Chelsea Smith</td>\n",
       "      <td>fglenn@example.com</td>\n",
       "      <td>949.600.6053x34155</td>\n",
       "      <td>Adamston</td>\n",
       "      <td>Colombia</td>\n",
       "      <td>2024-02-16</td>\n",
       "    </tr>\n",
       "  </tbody>\n",
       "</table>\n",
       "</div>"
      ],
      "text/plain": [
       "   order_id  product_id  quantity  unit_price  total_price  customer_id  \\\n",
       "0         1          31         1      353.08       353.08           92   \n",
       "1         1          31         2      353.08       706.16           92   \n",
       "2         1          44         2      402.07       804.14           92   \n",
       "3         1          25         3      423.75      1271.25           92   \n",
       "4         2          48         1      188.68       188.68           46   \n",
       "\n",
       "   order_date   status product_name category   price  stock       date  \\\n",
       "0  2024-12-12  Pending      Popular     Home  353.08     23 2024-12-12   \n",
       "1  2024-12-12  Pending      Popular     Home  353.08     23 2024-12-12   \n",
       "2  2024-12-12  Pending         Make  Fashion  402.07     85 2024-12-12   \n",
       "3  2024-12-12  Pending         Real  Fashion  423.75     75 2024-12-12   \n",
       "4  2024-12-31  Shipped  Development   Sports  188.68    118 2024-12-31   \n",
       "\n",
       "            name                    email               phone       city  \\\n",
       "0    Melissa Kim  victorsolis@example.org    001-511-767-7133  Emilytown   \n",
       "1    Melissa Kim  victorsolis@example.org    001-511-767-7133  Emilytown   \n",
       "2    Melissa Kim  victorsolis@example.org    001-511-767-7133  Emilytown   \n",
       "3    Melissa Kim  victorsolis@example.org    001-511-767-7133  Emilytown   \n",
       "4  Chelsea Smith       fglenn@example.com  949.600.6053x34155   Adamston   \n",
       "\n",
       "       country  created_at  \n",
       "0  Switzerland  2024-05-13  \n",
       "1  Switzerland  2024-05-13  \n",
       "2  Switzerland  2024-05-13  \n",
       "3  Switzerland  2024-05-13  \n",
       "4     Colombia  2024-02-16  "
      ]
     },
     "execution_count": 135,
     "metadata": {},
     "output_type": "execute_result"
    }
   ],
   "source": [
    "customers_orders = pd.merge(sales_data, customers , on = 'customer_id', how = 'inner')\n",
    "customers_orders.head()"
   ]
  },
  {
   "cell_type": "code",
   "execution_count": null,
   "id": "855d40a2",
   "metadata": {},
   "outputs": [
    {
     "data": {
      "text/plain": [
       "Text(0.5, 1.0, 'Top 5 countries and their revenue')"
      ]
     },
     "execution_count": 141,
     "metadata": {},
     "output_type": "execute_result"
    },
    {
     "data": {
      "image/png": "[encoded data removed]",
      "text/plain": [
       "<Figure size 640x480 with 1 Axes>"
      ]
     },
     "metadata": {},
     "output_type": "display_data"
    }
   ],
   "source": [
    "top_5 = customers_orders.groupby('country')['total_price'].sum().nlargest(5)\n",
    "sns.barplot(y = top_5.values, x = top_5.index, color = 'lavender' )\n",
    "plt.title('Top 5 countries and their revenue')"
   ]
  },
  {
   "cell_type": "code",
   "execution_count": null,
   "id": "901122db",
   "metadata": {},
   "outputs": [
    {
     "data": {
      "text/plain": [
       "<BarContainer object of 5 artists>"
      ]
     },
     "execution_count": 147,
     "metadata": {},
     "output_type": "execute_result"
    },
    {
     "data": {
      "image/png": "[encoded data removed]",
      "text/plain": [
       "<Figure size 640x480 with 1 Axes>"
      ]
     },
     "metadata": {},
     "output_type": "display_data"
    }
   ],
   "source": [
    "#Compare average product price by category.\n",
    "customers_orders.head()\n",
    "avg_price_by_category = customers_orders.groupby('category')['price'].mean()\n",
    "plt.bar(avg_price_by_category.index, avg_price_by_category.values, color = 'teal')"
   ]
  },
  {
   "cell_type": "code",
   "execution_count": 158,
   "id": "7da89dad",
   "metadata": {},
   "outputs": [
    {
     "data": {
      "text/plain": [
       "<BarContainer object of 4 artists>"
      ]
     },
     "execution_count": 158,
     "metadata": {},
     "output_type": "execute_result"
    },
    {
     "data": {
      "image/png": "[encoded data removed]",
      "text/plain": [
       "<Figure size 640x480 with 1 Axes>"
      ]
     },
     "metadata": {},
     "output_type": "display_data"
    }
   ],
   "source": [
    "#Plot number of successful vs failed transactions.\n",
    "transactions.head()\n",
    "order_counts = orders.groupby('status').size()\n",
    "filtered = order_counts[order_counts.index.isin(['Delivered', 'Cancelled'])]\n",
    "plt.bar(order_counts.index, order_counts.values)\n"
   ]
  },
  {
   "cell_type": "code",
   "execution_count": 161,
   "id": "d2f8dd77",
   "metadata": {},
   "outputs": [
    {
     "data": {
      "text/plain": [
       "<BarContainer object of 2 artists>"
      ]
     },
     "execution_count": 161,
     "metadata": {},
     "output_type": "execute_result"
    },
    {
     "data": {
      "image/png": "[encoded data removed]",
      "text/plain": [
       "<Figure size 640x480 with 1 Axes>"
      ]
     },
     "metadata": {},
     "output_type": "display_data"
    }
   ],
   "source": [
    "plt.title('Number of delivered vs cancelled orders')\n",
    "plt.bar(filtered.index,filtered.values, color = 'coral', width = 0.4)"
   ]
  },
  {
   "cell_type": "code",
   "execution_count": 163,
   "id": "69602ef0",
   "metadata": {},
   "outputs": [
    {
     "data": {
      "text/html": [
       "<div>\n",
       "<style scoped>\n",
       "    .dataframe tbody tr th:only-of-type {\n",
       "        vertical-align: middle;\n",
       "    }\n",
       "\n",
       "    .dataframe tbody tr th {\n",
       "        vertical-align: top;\n",
       "    }\n",
       "\n",
       "    .dataframe thead th {\n",
       "        text-align: right;\n",
       "    }\n",
       "</style>\n",
       "<table border=\"1\" class=\"dataframe\">\n",
       "  <thead>\n",
       "    <tr style=\"text-align: right;\">\n",
       "      <th></th>\n",
       "      <th>order_id</th>\n",
       "      <th>product_id</th>\n",
       "      <th>quantity</th>\n",
       "      <th>unit_price</th>\n",
       "      <th>total_price</th>\n",
       "      <th>customer_id</th>\n",
       "      <th>order_date</th>\n",
       "      <th>status</th>\n",
       "      <th>product_name</th>\n",
       "      <th>category</th>\n",
       "      <th>price</th>\n",
       "      <th>stock</th>\n",
       "      <th>date</th>\n",
       "    </tr>\n",
       "  </thead>\n",
       "  <tbody>\n",
       "    <tr>\n",
       "      <th>0</th>\n",
       "      <td>1</td>\n",
       "      <td>31</td>\n",
       "      <td>1</td>\n",
       "      <td>353.08</td>\n",
       "      <td>353.08</td>\n",
       "      <td>92</td>\n",
       "      <td>2024-12-12</td>\n",
       "      <td>Pending</td>\n",
       "      <td>Popular</td>\n",
       "      <td>Home</td>\n",
       "      <td>353.08</td>\n",
       "      <td>23</td>\n",
       "      <td>2024-12-12</td>\n",
       "    </tr>\n",
       "    <tr>\n",
       "      <th>1</th>\n",
       "      <td>1</td>\n",
       "      <td>31</td>\n",
       "      <td>2</td>\n",
       "      <td>353.08</td>\n",
       "      <td>706.16</td>\n",
       "      <td>92</td>\n",
       "      <td>2024-12-12</td>\n",
       "      <td>Pending</td>\n",
       "      <td>Popular</td>\n",
       "      <td>Home</td>\n",
       "      <td>353.08</td>\n",
       "      <td>23</td>\n",
       "      <td>2024-12-12</td>\n",
       "    </tr>\n",
       "    <tr>\n",
       "      <th>2</th>\n",
       "      <td>1</td>\n",
       "      <td>44</td>\n",
       "      <td>2</td>\n",
       "      <td>402.07</td>\n",
       "      <td>804.14</td>\n",
       "      <td>92</td>\n",
       "      <td>2024-12-12</td>\n",
       "      <td>Pending</td>\n",
       "      <td>Make</td>\n",
       "      <td>Fashion</td>\n",
       "      <td>402.07</td>\n",
       "      <td>85</td>\n",
       "      <td>2024-12-12</td>\n",
       "    </tr>\n",
       "    <tr>\n",
       "      <th>3</th>\n",
       "      <td>1</td>\n",
       "      <td>25</td>\n",
       "      <td>3</td>\n",
       "      <td>423.75</td>\n",
       "      <td>1271.25</td>\n",
       "      <td>92</td>\n",
       "      <td>2024-12-12</td>\n",
       "      <td>Pending</td>\n",
       "      <td>Real</td>\n",
       "      <td>Fashion</td>\n",
       "      <td>423.75</td>\n",
       "      <td>75</td>\n",
       "      <td>2024-12-12</td>\n",
       "    </tr>\n",
       "    <tr>\n",
       "      <th>4</th>\n",
       "      <td>2</td>\n",
       "      <td>48</td>\n",
       "      <td>1</td>\n",
       "      <td>188.68</td>\n",
       "      <td>188.68</td>\n",
       "      <td>46</td>\n",
       "      <td>2024-12-31</td>\n",
       "      <td>Shipped</td>\n",
       "      <td>Development</td>\n",
       "      <td>Sports</td>\n",
       "      <td>188.68</td>\n",
       "      <td>118</td>\n",
       "      <td>2024-12-31</td>\n",
       "    </tr>\n",
       "  </tbody>\n",
       "</table>\n",
       "</div>"
      ],
      "text/plain": [
       "   order_id  product_id  quantity  unit_price  total_price  customer_id  \\\n",
       "0         1          31         1      353.08       353.08           92   \n",
       "1         1          31         2      353.08       706.16           92   \n",
       "2         1          44         2      402.07       804.14           92   \n",
       "3         1          25         3      423.75      1271.25           92   \n",
       "4         2          48         1      188.68       188.68           46   \n",
       "\n",
       "   order_date   status product_name category   price  stock       date  \n",
       "0  2024-12-12  Pending      Popular     Home  353.08     23 2024-12-12  \n",
       "1  2024-12-12  Pending      Popular     Home  353.08     23 2024-12-12  \n",
       "2  2024-12-12  Pending         Make  Fashion  402.07     85 2024-12-12  \n",
       "3  2024-12-12  Pending         Real  Fashion  423.75     75 2024-12-12  \n",
       "4  2024-12-31  Shipped  Development   Sports  188.68    118 2024-12-31  "
      ]
     },
     "execution_count": 163,
     "metadata": {},
     "output_type": "execute_result"
    }
   ],
   "source": [
    "#Find which category has the highest average quantity per order.\n",
    "sales_data.head()"
   ]
  },
  {
   "cell_type": "code",
   "execution_count": 180,
   "id": "7db38a94",
   "metadata": {},
   "outputs": [
    {
     "data": {
      "text/plain": [
       "<Axes: xlabel='category'>"
      ]
     },
     "execution_count": 180,
     "metadata": {},
     "output_type": "execute_result"
    },
    {
     "data": {
      "image/png": "[encoded data removed]",
      "text/plain": [
       "<Figure size 640x480 with 1 Axes>"
      ]
     },
     "metadata": {},
     "output_type": "display_data"
    }
   ],
   "source": [
    "avg_q_per_order = sales_data.groupby('category')['quantity'].mean().nlargest(1)\n",
    "sns.barplot( x=avg_q_per_order.index, y=avg_q_per_order.values)"
   ]
  }
 ],
 "metadata": {
  "kernelspec": {
   "display_name": "venv",
   "language": "python",
   "name": "python3"
  },
  "language_info": {
   "codemirror_mode": {
    "name": "ipython",
    "version": 3
   },
   "file_extension": ".py",
   "mimetype": "text/x-python",
   "name": "python",
   "nbconvert_exporter": "python",
   "pygments_lexer": "ipython3",
   "version": "3.12.7"
  }
 },
 "nbformat": 4,
 "nbformat_minor": 5
}
